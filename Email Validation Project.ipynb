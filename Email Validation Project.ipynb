{
 "cells": [
  {
   "cell_type": "code",
   "execution_count": 54,
   "id": "d734090b-1d70-4326-afad-a66d7ec1252e",
   "metadata": {},
   "outputs": [
    {
     "name": "stdin",
     "output_type": "stream",
     "text": [
      "Enter your Email: nehasaini745888@@gmail.com\n"
     ]
    },
    {
     "name": "stdout",
     "output_type": "stream",
     "text": [
      "Wrong Email 3\n"
     ]
    }
   ],
   "source": [
    "email = input(\"Enter your Email:\") #g@g.in, nehasaini745888@gmail.com\n",
    "k,j,d=0,0,0\n",
    "if len(email)>=6:\n",
    "    if email[0].isalpha():\n",
    "        if (\"@\" in email) and (email.count(\"@\")==1):\n",
    "            if (email[-4]==\".\")^(email[-3]==\".\"):\n",
    "                for i in email:\n",
    "                    if i == i.space():\n",
    "                        k=1\n",
    "                    elif i.isalpha():\n",
    "                        if i==i.upper():\n",
    "                            j=1\n",
    "                    elif i.isdigit():\n",
    "                        continue\n",
    "                    elif i == \"_\" or  i ==\".\" or i == \"@\":\n",
    "                        continue\n",
    "                    else:\n",
    "                         d=1\n",
    "            if k ==1 or j==1 or d==1:\n",
    "                    print(\"Wrong Email 5\")\n",
    "            else:\n",
    "                print(\"Wrong Email 4\")\n",
    "        else:\n",
    "            print(\"Wrong Email 3\")\n",
    "    else:\n",
    "        print(\"Wrong Email 2\")\n",
    "else:\n",
    "         print(\"Wrong Email 1\")"
   ]
  },
  {
   "cell_type": "code",
   "execution_count": null,
   "id": "87d30062-60b3-4015-b65e-12e1d2fea3fb",
   "metadata": {},
   "outputs": [],
   "source": []
  },
  {
   "cell_type": "code",
   "execution_count": null,
   "id": "edfb51ec-cccb-4f8a-af8a-a076b77275b4",
   "metadata": {},
   "outputs": [],
   "source": []
  },
  {
   "cell_type": "code",
   "execution_count": null,
   "id": "c39aa5b0-d543-4e52-acb5-f9e7a9d9d65b",
   "metadata": {},
   "outputs": [],
   "source": []
  },
  {
   "cell_type": "code",
   "execution_count": null,
   "id": "30ba3b35-77c9-4ae2-ac86-6cb576783af2",
   "metadata": {},
   "outputs": [],
   "source": []
  }
 ],
 "metadata": {
  "kernelspec": {
   "display_name": "Python 3 (ipykernel)",
   "language": "python",
   "name": "python3"
  },
  "language_info": {
   "codemirror_mode": {
    "name": "ipython",
    "version": 3
   },
   "file_extension": ".py",
   "mimetype": "text/x-python",
   "name": "python",
   "nbconvert_exporter": "python",
   "pygments_lexer": "ipython3",
   "version": "3.11.7"
  }
 },
 "nbformat": 4,
 "nbformat_minor": 5
}
